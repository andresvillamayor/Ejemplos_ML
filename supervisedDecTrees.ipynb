{
 "cells": [
  {
   "cell_type": "code",
   "execution_count": null,
   "metadata": {},
   "outputs": [],
   "source": [
    "# Cargar funciones de la librería de python data analysis\n",
    "import pandas as pd \n",
    "\n",
    "# Leer csv con datos y cargar en el dataframe data\n",
    "data = pd.read_csv(\"data/creditos.csv\") \n",
    "\n",
    "# Preview de las 5 primeras filas de data \n",
    "data.head()"
   ]
  },
  {
   "cell_type": "code",
   "execution_count": null,
   "metadata": {},
   "outputs": [],
   "source": [
    "import numpy as np\n",
    "\n",
    "# calcular variable edad a partir de fecha de solicitud - fecha de nacimiento\n",
    "data['fechaHora'] = pd.to_datetime(data['fechaHora'])\n",
    "data['nacimiento'] = pd.to_datetime(data['nacimiento'])\n",
    "data['edad'] = ((data['fechaHora']-data['nacimiento'])/np.timedelta64(1,'Y')).astype(int)\n",
    "\n",
    "# seleccionar variables de la solicitud, sistema financiero y target, descartar variables pos aprobación\n",
    "df1 = data.iloc[:,2:3]\n",
    "df2 = data.iloc[:,83:84]\n",
    "df3 = data.iloc[:,4:68]\n",
    "df4 = data.iloc[:,82:83]\n",
    "\n",
    "# Unificar en un dataframe filtrado\n",
    "df = pd.concat([df1,df2,df3,df4], axis=1)\n",
    "\n",
    "# One-hot encoding para variables categoricas\n",
    "dfOHEncoded = pd.get_dummies(df)\n",
    "dfOHEncoded.head()"
   ]
  },
  {
   "cell_type": "code",
   "execution_count": null,
   "metadata": {},
   "outputs": [],
   "source": [
    "# Carga decision tree, holdout split y metricas\n",
    "from sklearn.tree import DecisionTreeClassifier\n",
    "from sklearn.model_selection import train_test_split\n",
    "from sklearn import metrics\n",
    "\n",
    "# split dataset en train (70%) y test (30%)\n",
    "X = dfOHEncoded.iloc[:,0:110]\n",
    "y = dfOHEncoded['resultadoFinal_BIEN']\n",
    "X_train, X_test, y_train, y_test = train_test_split(X, y, test_size=0.3, random_state=1)\n",
    "\n",
    "# Entrenar decision tree usando entropia y profundidad maxima 6\n",
    "clf = DecisionTreeClassifier(criterion=\"entropy\",max_depth=6)\n",
    "clf = clf.fit(X_train,y_train)\n",
    "\n",
    "# Predecir con datos de test\n",
    "y_pred = clf.predict(X_test)\n",
    "\n",
    "# Accuracy: (tp+tn)/n\n",
    "print(\"Accuracy:\",metrics.accuracy_score(y_test, y_pred))\n",
    "metrics.precision_recall_fscore_support(y_test, y_pred, average=None)"
   ]
  },
  {
   "cell_type": "code",
   "execution_count": null,
   "metadata": {},
   "outputs": [],
   "source": [
    "# cargar exportador de grafos y funcion de llamada a sistema\n",
    "from sklearn.tree import export_graphviz\n",
    "\n",
    "export_graphviz(clf, out_file=\"data/creditos.dot\",  \n",
    "                filled=True, rounded=True,\n",
    "                special_characters=True, feature_names = X.columns,class_names = ['0','1'])\n",
    "\n",
    "import pydot\n",
    "(graph,) = pydot.graph_from_dot_file('data/creditos.dot')\n",
    "graph.write_png('data/creditos.png')"
   ]
  },
  {
   "cell_type": "code",
   "execution_count": null,
   "metadata": {},
   "outputs": [],
   "source": [
    "# Identificar variables categoricas\n",
    "df.dtypes[df.dtypes=='object']\n",
    "#df[\"nacionalidad\"].unique()"
   ]
  },
  {
   "cell_type": "code",
   "execution_count": null,
   "metadata": {},
   "outputs": [],
   "source": [
    "# cargar codificador por etiquetas (LabelEncoder)\n",
    "from sklearn import preprocessing\n",
    "\n",
    "# Codificar cada variable categorica con su propio encoder\n",
    "leNacionalidad = preprocessing.LabelEncoder()\n",
    "df[\"nacionalidad\"] = leNacionalidad.fit_transform(df[\"nacionalidad\"])\n",
    "leSexo = preprocessing.LabelEncoder()\n",
    "df[\"sexo\"] = leSexo.fit_transform(df[\"sexo\"].astype(str))\n",
    "leEstCivil = preprocessing.LabelEncoder()\n",
    "df[\"est_civil\"] = leEstCivil.fit_transform(df[\"est_civil\"].astype(str))\n",
    "leOcupCargo = preprocessing.LabelEncoder()\n",
    "df[\"ocup_cargo\"] = leOcupCargo.fit_transform(df[\"ocup_cargo\"].astype(str))\n",
    "leClienteNoR = preprocessing.LabelEncoder()\n",
    "df[\"cliente_nuevo_o_recurrente\"] = leClienteNoR.fit_transform(df[\"cliente_nuevo_o_recurrente\"])\n",
    "leTieneVC = preprocessing.LabelEncoder()\n",
    "df[\"tiene_visa_classic\"] = leTieneVC.fit_transform(df[\"tiene_visa_classic\"])\n",
    "leTieneVG = preprocessing.LabelEncoder()\n",
    "df[\"tiene_visa_gold\"] = leTieneVG.fit_transform(df[\"tiene_visa_gold\"])\n",
    "leTieneMG = preprocessing.LabelEncoder()\n",
    "df[\"tiene_mc_gold\"] = leTieneMG.fit_transform(df[\"tiene_mc_gold\"])\n",
    "leTieneFC = preprocessing.LabelEncoder()\n",
    "df[\"tiene_fc\"] = leTieneFC.fit_transform(df[\"tiene_fc\"])\n",
    "leTieneMC = preprocessing.LabelEncoder()\n",
    "df[\"tiene_mc_classic\"] = leTieneMC.fit_transform(df[\"tiene_mc_classic\"])\n",
    "leFaja = preprocessing.LabelEncoder()\n",
    "df[\"respuesta_iconf_faja_score\"] = leFaja.fit_transform(df[\"respuesta_iconf_faja_score\"].astype(str))\n",
    "leResultadoFinal = preprocessing.LabelEncoder()\n",
    "df[\"resultadoFinal\"] = leResultadoFinal.fit_transform(df[\"resultadoFinal\"])"
   ]
  },
  {
   "cell_type": "code",
   "execution_count": null,
   "metadata": {},
   "outputs": [],
   "source": [
    "# Verificar dataframe codificado \n",
    "df.head()\n",
    "\n",
    "# Verificar inversa de codificacion\n",
    "#leFaja.inverse_transform(df[\"respuesta_iconf_faja_score\"])\n",
    "#leResultadoFinal.inverse_transform(df[\"resultadoFinal\"])"
   ]
  },
  {
   "cell_type": "code",
   "execution_count": null,
   "metadata": {},
   "outputs": [],
   "source": [
    "# Split en train y test\n",
    "X = df.iloc[:,0:66]\n",
    "y = df['resultadoFinal']\n",
    "X_train, X_test, y_train, y_test = train_test_split(X, y, test_size=0.3, random_state=1)\n",
    "\n",
    "# Entrenar decision tree con entropia, size minimo de nodo 50 y profundidad maxima 6\n",
    "    clf = DecisionTreeClassifier(criterion=\"entropy\", min_samples_leaf=50, max_depth=6)\n",
    "clf = clf.fit(X_train,y_train)\n",
    "\n",
    "# Predecir con datos de test\n",
    "y_pred = clf.predict(X_test)\n",
    "\n",
    "# Accuracy: (tp+tn)/n\n",
    "print(\"Accuracy:\",metrics.accuracy_score(y_test, y_pred))\n",
    "\n",
    "# Exportar arbol\n",
    "export_graphviz(clf, out_file=\"data/creditos2.dot\",  \n",
    "                filled=True, rounded=True,\n",
    "                special_characters=True, feature_names = X.columns,class_names = ['BIEN','MAL'])\n",
    "\n",
    "(graph,) = pydot.graph_from_dot_file('data/creditos2.dot')\n",
    "graph.write_png('data/creditos2.png')"
   ]
  },
  {
   "cell_type": "code",
   "execution_count": null,
   "metadata": {},
   "outputs": [],
   "source": [
    "# Calcular matriz de confusion\n",
    "#metrics.confusion_matrix(y_test, y_pred)\n",
    "pd.crosstab(y_test, y_pred, \n",
    "            rownames=['actual'], \n",
    "            colnames=['pred'], margins=False, margins_name=\"Total\")\n",
    "\n",
    "#leResultadoFinal.classes_"
   ]
  },
  {
   "cell_type": "code",
   "execution_count": null,
   "metadata": {},
   "outputs": [],
   "source": [
    "# Calcular metricas: precision, recall, f-measure (f-score)\n",
    "\n",
    "#print(metrics.recall_score(y_test, y_pred, average=None))\n",
    "#print(metrics.precision_score(y_test, y_pred, average=None))\n",
    "metrics.precision_recall_fscore_support(y_test, y_pred, average=None)"
   ]
  },
  {
   "cell_type": "code",
   "execution_count": null,
   "metadata": {},
   "outputs": [],
   "source": [
    "# Obtener importancia de variables y vertificar variables mas relevantes\n",
    "fi = pd.DataFrame(zip(X.columns,clf.feature_importances_), columns=['feature','importance'])\n",
    "\n",
    "fi[fi['importance'] > 0.0].sort_values(by=['importance'], ascending=False)"
   ]
  },
  {
   "cell_type": "code",
   "execution_count": null,
   "metadata": {},
   "outputs": [],
   "source": [
    "# Obtener scores de prediccion\n",
    "y_scores = clf.predict_proba(X_test)\n",
    "#y_scores\n",
    "\n",
    "# Crear dataframe de predicciones con scores, filtrar segun criterio de aprobacion (80%)\n",
    "dp = pd.DataFrame(zip(y_test,y_pred,y_scores[:,0],y_scores[:,1]), columns=['actual','pred','prob_yes','prob_no'])\n",
    "\n",
    "dp[dp['prob_yes'] >= 0.80]"
   ]
  },
  {
   "cell_type": "code",
   "execution_count": null,
   "metadata": {},
   "outputs": [],
   "source": []
  }
 ],
 "metadata": {
  "kernelspec": {
   "display_name": "Python 3",
   "language": "python",
   "name": "python3"
  },
  "language_info": {
   "codemirror_mode": {
    "name": "ipython",
    "version": 3
   },
   "file_extension": ".py",
   "mimetype": "text/x-python",
   "name": "python",
   "nbconvert_exporter": "python",
   "pygments_lexer": "ipython3",
   "version": "3.7.6"
  }
 },
 "nbformat": 4,
 "nbformat_minor": 2
}
